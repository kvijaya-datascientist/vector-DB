{
 "cells": [
  {
   "cell_type": "markdown",
   "id": "4c255fe9-e322-48d0-96be-d41036892b57",
   "metadata": {},
   "source": [
    "Ref: https://milvus.io/docs/search.md"
   ]
  },
  {
   "cell_type": "code",
   "execution_count": null,
   "id": "b152bdcb-62b3-48d6-b1af-1570ffdae294",
   "metadata": {},
   "outputs": [],
   "source": [
    "import random\n",
    "import random\n",
    "import numpy as np\n",
    "from pprint import pprint\n",
    "\n",
    "#from milvus import Milvus"
   ]
  },
  {
   "cell_type": "code",
   "execution_count": 40,
   "id": "49bd8d92-3523-4237-a83e-319150c5271d",
   "metadata": {},
   "outputs": [],
   "source": [
    "from pymilvus import connections,CollectionSchema, FieldSchema, DataType,utility"
   ]
  },
  {
   "cell_type": "code",
   "execution_count": 16,
   "id": "1aea78c8-8ab5-40e0-a6f4-0ffb7b15e91a",
   "metadata": {},
   "outputs": [],
   "source": [
    "#Connects to a server:\n",
    "connections.connect(alias=\"default\", host=\"localhost\", port=\"19530\",user=\"root\",password=\"Milvus\")"
   ]
  },
  {
   "cell_type": "code",
   "execution_count": 22,
   "id": "da244b76-c334-48aa-858c-6343a59c01e2",
   "metadata": {},
   "outputs": [],
   "source": [
    "#Preparing schema\n",
    "fields = [\n",
    "    FieldSchema(name=\"book_id\", dtype=DataType.INT64, is_primary=True, auto_id=False),\n",
    "    FieldSchema(name=\"book_name\", dtype=DataType.VARCHAR, max_length=200,default_value=\"Unknown\"),\n",
    "    FieldSchema(name=\"word_count\", dtype=DataType.INT64, default_value=9999),\n",
    "    FieldSchema(name=\"book_intro\", dtype=DataType.FLOAT_VECTOR, dim=2)\n",
    "]\n",
    "schema = CollectionSchema(fields,description=\"Test book search\",enable_dynamic_field=True) # No.of fields in collection=64\n",
    "\n",
    "collection_name = \"book\"  #len(collection_name)= max 255 characters"
   ]
  },
  {
   "cell_type": "code",
   "execution_count": 24,
   "id": "90cd3fdc-3da7-479e-b91d-18817cbe2e47",
   "metadata": {},
   "outputs": [],
   "source": [
    "#Creating collection with schema\n",
    "collection = Collection(\n",
    "    name=collection_name,\n",
    "    schema=schema,\n",
    "    using='default',\n",
    "    shards_num=2  # Number of shards in a collection=16\n",
    "    )"
   ]
  },
  {
   "cell_type": "code",
   "execution_count": 33,
   "id": "9dfafaeb-8cc1-4e80-9f11-adbc0b1d0728",
   "metadata": {},
   "outputs": [],
   "source": [
    "#Preparing data\n",
    "data = [\n",
    "  [i for i in range(2000)],\n",
    "  [str(i) for i in range(2000)],\n",
    "  [i for i in range(10000, 12000)],\n",
    "  [[random.random() for _ in range(2)] for _ in range(2000)]\n",
    "]\n",
    "\n",
    "#data.append([str(\"dy\"*i) for i in range(2000)])"
   ]
  },
  {
   "cell_type": "code",
   "execution_count": 38,
   "id": "0f30b9c9-96a2-4788-bc3a-f0ca82cda930",
   "metadata": {},
   "outputs": [],
   "source": [
    "#Insert the data to the collection/Milvus\n",
    "from pymilvus import Collection\n",
    "collection = Collection(\"book\")      # Get an existing collection.\n",
    "mr = collection.insert(data)\n",
    "# After final entity is inserted, it is best to call flush to have no growing segments left in memory"
   ]
  },
  {
   "cell_type": "raw",
   "id": "ed89349e-c0ff-4a19-a1dd-c309b78cc45e",
   "metadata": {},
   "source": [
    "When data is inserted into Milvus, it is stored in segments. Segments have to reach a certain size before they can be sealed and indexed. Unsealed segments are searched using brute force. If you need to search the data immediately after insertion, you can call the flush() method once the data is inserted. This method seals any remaining segments and sends them for indexing. It is important to only call this method at the end of an insert session. Calling it too frequently will result in fragmented data that will require cleaning later on."
   ]
  },
  {
   "cell_type": "code",
   "execution_count": 39,
   "id": "818e1807-d50f-45bc-a83a-043344992560",
   "metadata": {},
   "outputs": [],
   "source": [
    "# preparing index parameters\n",
    "index_params = {\n",
    "  \"metric_type\":\"L2\",\n",
    "  \"index_type\":\"IVF_FLAT\",\n",
    "  \"params\":{\"nlist\":1024}\n",
    "}"
   ]
  },
  {
   "cell_type": "code",
   "execution_count": 41,
   "id": "1b30a3a6-b90e-482f-bcdc-769e8be9473c",
   "metadata": {},
   "outputs": [
    {
     "data": {
      "text/plain": [
       "{'total_rows': 10000, 'indexed_rows': 10000}"
      ]
     },
     "execution_count": 41,
     "metadata": {},
     "output_type": "execute_result"
    }
   ],
   "source": [
    "#Build the index by specifying the vector field name and index parameters.\n",
    "# Get an existing collection.\n",
    "collection = Collection(\"book\")      \n",
    "collection.create_index(\n",
    "  field_name=\"book_intro\", \n",
    "  index_params=index_params\n",
    ")\n",
    "\n",
    "utility.index_building_progress(\"book\")"
   ]
  },
  {
   "cell_type": "code",
   "execution_count": 47,
   "id": "e3530ecd-78de-41c4-8e74-dba5835690fb",
   "metadata": {},
   "outputs": [],
   "source": [
    "#Conduct a Vector Similarity Search\n",
    "# 1. Load collection\n",
    "collection = Collection(\"book\")      # Get an existing collection.\n",
    "collection.load()\n",
    "# 2. Prepare search parameters\n",
    "search_params = {\n",
    "    \"metric_type\": \"L2\", \n",
    "    \"offset\": 0, \n",
    "    \"ignore_growing\": False, \n",
    "    \"params\": {\"nprobe\": 10}\n",
    "}\n",
    "# 3. Conduct a vector search\n",
    "results = collection.search(\n",
    "    data=[[0.7, 0.71]], \n",
    "    anns_field=\"book_intro\", \n",
    "    # the sum of `offset` in `param` and `limit` \n",
    "    # should be less than 16384.\n",
    "    param=search_params,\n",
    "    limit=10,\n",
    "    expr=None,\n",
    "    # set the names of the fields you want to \n",
    "    # retrieve from the search result.\n",
    "    output_fields=['title'],\n",
    "    consistency_level=\"Strong\"\n",
    ")\n"
   ]
  },
  {
   "cell_type": "code",
   "execution_count": null,
   "id": "5a3c9fbf-5184-4923-8c38-9c1b53f260d4",
   "metadata": {},
   "outputs": [],
   "source": []
  },
  {
   "cell_type": "code",
   "execution_count": null,
   "id": "60018529-95b0-4f1d-976d-f5566f9e5023",
   "metadata": {},
   "outputs": [],
   "source": []
  },
  {
   "cell_type": "code",
   "execution_count": null,
   "id": "207d86d0-c356-4a67-a94f-2d06233bbd3f",
   "metadata": {},
   "outputs": [],
   "source": [
    "connections.disconnect(\"default\")"
   ]
  }
 ],
 "metadata": {
  "kernelspec": {
   "display_name": "Python 3 (ipykernel)",
   "language": "python",
   "name": "python3"
  },
  "language_info": {
   "codemirror_mode": {
    "name": "ipython",
    "version": 3
   },
   "file_extension": ".py",
   "mimetype": "text/x-python",
   "name": "python",
   "nbconvert_exporter": "python",
   "pygments_lexer": "ipython3",
   "version": "3.11.0"
  }
 },
 "nbformat": 4,
 "nbformat_minor": 5
}
